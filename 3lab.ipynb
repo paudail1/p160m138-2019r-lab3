{
 "cells": [
  {
   "cell_type": "code",
   "execution_count": 3,
   "metadata": {},
   "outputs": [],
   "source": [
    "# -*- coding: utf-8 -*-\n",
    "import click\n",
    "import logging\n",
    "from dotenv import find_dotenv, load_dotenv\n",
    "import pandas as pd\n",
    "import numpy as np\n",
    "from sklearn.compose import ColumnTransformer\n",
    "from sklearn.pipeline import Pipeline\n",
    "from sklearn.impute import SimpleImputer\n",
    "from sklearn.preprocessing import StandardScaler, OneHotEncoder\n",
    "from sklearn.ensemble import RandomForestClassifier\n",
    "from sklearn.model_selection import GridSearchCV\n",
    "from sklearn import metrics\n",
    "import json\n",
    "import pathlib \n",
    "from pathlib import Path"
   ]
  },
  {
   "cell_type": "code",
   "execution_count": 5,
   "metadata": {},
   "outputs": [],
   "source": [
    "df_train = pd.read_csv(pathlib.Path(\"C:/Users/Paulius/p160m138-2019r-lab3/p160m138-2019r-lab3/data/interim/bank_train.csv\"))\n",
    "df_test = pd.read_csv(pathlib.Path(\"C:/Users/Paulius/p160m138-2019r-lab3/p160m138-2019r-lab3/data/interim/bank_test.csv\"))"
   ]
  },
  {
   "cell_type": "code",
   "execution_count": 6,
   "metadata": {},
   "outputs": [
    {
     "data": {
      "text/plain": [
       "['age',\n",
       " 'job',\n",
       " 'marital',\n",
       " 'education',\n",
       " 'default',\n",
       " 'balance',\n",
       " 'housing',\n",
       " 'loan',\n",
       " 'contact',\n",
       " 'day',\n",
       " 'month',\n",
       " 'duration',\n",
       " 'campaign',\n",
       " 'pdays',\n",
       " 'previous',\n",
       " 'poutcome',\n",
       " 'target']"
      ]
     },
     "execution_count": 6,
     "metadata": {},
     "output_type": "execute_result"
    }
   ],
   "source": [
    "list(df_train.columns)"
   ]
  },
  {
   "cell_type": "code",
   "execution_count": 7,
   "metadata": {},
   "outputs": [
    {
     "data": {
      "text/plain": [
       "age           int64\n",
       "job          object\n",
       "marital      object\n",
       "education    object\n",
       "default      object\n",
       "balance       int64\n",
       "housing      object\n",
       "loan         object\n",
       "contact      object\n",
       "day           int64\n",
       "month        object\n",
       "duration      int64\n",
       "campaign      int64\n",
       "pdays         int64\n",
       "previous      int64\n",
       "poutcome     object\n",
       "target        int64\n",
       "dtype: object"
      ]
     },
     "execution_count": 7,
     "metadata": {},
     "output_type": "execute_result"
    }
   ],
   "source": [
    "df_train.dtypes"
   ]
  },
  {
   "cell_type": "code",
   "execution_count": 8,
   "metadata": {},
   "outputs": [],
   "source": [
    "numeric_features = [\n",
    "    'age',\n",
    "    'balance',\n",
    "    'day',\n",
    "    'campaign',\n",
    "    'pdays',\n",
    "    'previous',\n",
    "]"
   ]
  },
  {
   "cell_type": "code",
   "execution_count": 9,
   "metadata": {},
   "outputs": [],
   "source": [
    "categorical_features = [\n",
    "    'job',\n",
    "    'marital',\n",
    "    'education',\n",
    "    'default',\n",
    "    'housing',\n",
    "    'loan',\n",
    "    'contact',\n",
    "    'month',\n",
    "    'campaign',\n",
    "    'poutcome'\n",
    "]"
   ]
  },
  {
   "cell_type": "code",
   "execution_count": 10,
   "metadata": {},
   "outputs": [],
   "source": [
    "numeric_transformer_pipe = Pipeline(steps=[\n",
    "    ('imputer', SimpleImputer(strategy='median')),\n",
    "    ('scaler', StandardScaler())])\n",
    "\n",
    "categorical_transformer_pipe = Pipeline(steps=[\n",
    "    ('imputer', SimpleImputer(strategy='constant', fill_value='missing')),\n",
    "    ('onehot', OneHotEncoder(handle_unknown='ignore'))])\n",
    "\n",
    "preprocessor_pipe = ColumnTransformer(\n",
    "    transformers=[\n",
    "        ('num', numeric_transformer_pipe, numeric_features),\n",
    "        ('cat', categorical_transformer_pipe, categorical_features)])"
   ]
  },
  {
   "cell_type": "code",
   "execution_count": 11,
   "metadata": {},
   "outputs": [],
   "source": [
    "X_train = df_train.drop('target', axis=1)\n",
    "y_train = df_train['target']\n",
    "\n",
    "X_test = df_test.drop('target', axis=1)\n",
    "y_test = df_test['target']"
   ]
  },
  {
   "cell_type": "code",
   "execution_count": 12,
   "metadata": {},
   "outputs": [
    {
     "data": {
      "text/plain": [
       "Pipeline(memory=None,\n",
       "         steps=[('preprocessor',\n",
       "                 ColumnTransformer(n_jobs=None, remainder='drop',\n",
       "                                   sparse_threshold=0.3,\n",
       "                                   transformer_weights=None,\n",
       "                                   transformers=[('num',\n",
       "                                                  Pipeline(memory=None,\n",
       "                                                           steps=[('imputer',\n",
       "                                                                   SimpleImputer(add_indicator=False,\n",
       "                                                                                 copy=True,\n",
       "                                                                                 fill_value=None,\n",
       "                                                                                 missing_values=nan,\n",
       "                                                                                 strategy='median',\n",
       "                                                                                 verbose=0)),\n",
       "                                                                  ('scaler',\n",
       "                                                                   StandardScaler(copy=True,\n",
       "                                                                                  with_mean...\n",
       "                 RandomForestClassifier(bootstrap=True, class_weight=None,\n",
       "                                        criterion='gini', max_depth=None,\n",
       "                                        max_features='auto',\n",
       "                                        max_leaf_nodes=None,\n",
       "                                        min_impurity_decrease=0.0,\n",
       "                                        min_impurity_split=None,\n",
       "                                        min_samples_leaf=1, min_samples_split=2,\n",
       "                                        min_weight_fraction_leaf=0.0,\n",
       "                                        n_estimators=100, n_jobs=-1,\n",
       "                                        oob_score=False, random_state=None,\n",
       "                                        verbose=0, warm_start=False))],\n",
       "         verbose=False)"
      ]
     },
     "execution_count": 12,
     "metadata": {},
     "output_type": "execute_result"
    }
   ],
   "source": [
    "clf = Pipeline(steps=[\n",
    "    ('preprocessor', preprocessor_pipe),\n",
    "    ('classifier', RandomForestClassifier(n_jobs=-1, n_estimators=100))])\n",
    "\n",
    "clf.fit(X_train, y_train)"
   ]
  },
  {
   "cell_type": "code",
   "execution_count": 13,
   "metadata": {},
   "outputs": [
    {
     "name": "stdout",
     "output_type": "stream",
     "text": [
      "model score: 0.897\n"
     ]
    }
   ],
   "source": [
    "print(\"model score: {:.3f}\".format(clf.score(X_test, y_test)))"
   ]
  },
  {
   "cell_type": "code",
   "execution_count": 14,
   "metadata": {},
   "outputs": [
    {
     "name": "stdout",
     "output_type": "stream",
     "text": [
      "model accuracy: 0.897\n",
      "model precision: 0.674\n",
      "model recall: 0.238\n",
      "model F1: 0.352\n",
      "model AuROC: 0.611\n"
     ]
    }
   ],
   "source": [
    "print(\"model accuracy: {:.3f}\".format(metrics.accuracy_score(y_test, clf.predict(X_test))))\n",
    "\n",
    "print(\"model precision: {:.3f}\".format(metrics.precision_score(y_test, clf.predict(X_test))))\n",
    "\n",
    "print(\"model recall: {:.3f}\".format(metrics.recall_score(y_test, clf.predict(X_test))))\n",
    "\n",
    "print(\"model F1: {:.3f}\".format(metrics.f1_score(y_test, clf.predict(X_test))))\n",
    "\n",
    "print(\"model AuROC: {:.3f}\".format(metrics.roc_auc_score(y_test, clf.predict(X_test))))"
   ]
  },
  {
   "cell_type": "code",
   "execution_count": 15,
   "metadata": {},
   "outputs": [
    {
     "name": "stdout",
     "output_type": "stream",
     "text": [
      "              precision    recall  f1-score   support\n",
      "\n",
      "           0       0.91      0.98      0.94      7985\n",
      "           1       0.67      0.24      0.35      1058\n",
      "\n",
      "    accuracy                           0.90      9043\n",
      "   macro avg       0.79      0.61      0.65      9043\n",
      "weighted avg       0.88      0.90      0.87      9043\n",
      "\n"
     ]
    }
   ],
   "source": [
    "print(metrics.classification_report(y_test, clf.predict(X_test)))"
   ]
  },
  {
   "cell_type": "code",
   "execution_count": 16,
   "metadata": {},
   "outputs": [
    {
     "data": {
      "text/plain": [
       "GridSearchCV(cv=4, error_score='raise-deprecating',\n",
       "             estimator=Pipeline(memory=None,\n",
       "                                steps=[('preprocessor',\n",
       "                                        ColumnTransformer(n_jobs=None,\n",
       "                                                          remainder='drop',\n",
       "                                                          sparse_threshold=0.3,\n",
       "                                                          transformer_weights=None,\n",
       "                                                          transformers=[('num',\n",
       "                                                                         Pipeline(memory=None,\n",
       "                                                                                  steps=[('imputer',\n",
       "                                                                                          SimpleImputer(add_indicator=False,\n",
       "                                                                                                        copy=True,\n",
       "                                                                                                        fill_value=None,\n",
       "                                                                                                        missing_values=nan,\n",
       "                                                                                                        strategy='medi...\n",
       "                                                               min_impurity_split=None,\n",
       "                                                               min_samples_leaf=1,\n",
       "                                                               min_samples_split=2,\n",
       "                                                               min_weight_fraction_leaf=0.0,\n",
       "                                                               n_estimators=100,\n",
       "                                                               n_jobs=-1,\n",
       "                                                               oob_score=False,\n",
       "                                                               random_state=None,\n",
       "                                                               verbose=0,\n",
       "                                                               warm_start=False))],\n",
       "                                verbose=False),\n",
       "             iid=False, n_jobs=-1,\n",
       "             param_grid={'classifier__n_estimators': [10, 30, 100]},\n",
       "             pre_dispatch='2*n_jobs', refit=True, return_train_score=False,\n",
       "             scoring='recall', verbose=0)"
      ]
     },
     "execution_count": 16,
     "metadata": {},
     "output_type": "execute_result"
    }
   ],
   "source": [
    "param_grid = {\n",
    "    'classifier__n_estimators': [10, 30, 100],\n",
    "}\n",
    "\n",
    "grid_search = GridSearchCV(clf, param_grid, cv=4, iid=False, scoring='recall', n_jobs=-1)\n",
    "grid_search.fit(X_train, y_train)"
   ]
  },
  {
   "cell_type": "code",
   "execution_count": 17,
   "metadata": {},
   "outputs": [
    {
     "name": "stdout",
     "output_type": "stream",
     "text": [
      "model accuracy: 0.896\n",
      "model precision: 0.664\n",
      "model recall: 0.228\n",
      "model F1: 0.339\n",
      "model AuROC: 0.606\n"
     ]
    }
   ],
   "source": [
    "print(\"model accuracy: {:.3f}\".format(metrics.accuracy_score(y_test, grid_search.predict(X_test))))\n",
    "\n",
    "print(\"model precision: {:.3f}\".format(metrics.precision_score(y_test, grid_search.predict(X_test))))\n",
    "\n",
    "print(\"model recall: {:.3f}\".format(metrics.recall_score(y_test, grid_search.predict(X_test))))\n",
    "\n",
    "print(\"model F1: {:.3f}\".format(metrics.f1_score(y_test, grid_search.predict(X_test))))\n",
    "\n",
    "print(\"model AuROC: {:.3f}\".format(metrics.roc_auc_score(y_test, grid_search.predict(X_test))))"
   ]
  },
  {
   "cell_type": "code",
   "execution_count": 18,
   "metadata": {},
   "outputs": [
    {
     "data": {
      "text/plain": [
       "{'mean_fit_time': [7.5675660371780396, 15.904978811740875, 39.508933305740356],\n",
       " 'std_fit_time': [1.85769966118303, 0.2893660104601841, 0.9576448051955023],\n",
       " 'mean_score_time': [5.208703458309174, 2.090374708175659, 0.5662997364997864],\n",
       " 'std_score_time': [0.38417710599105154,\n",
       "  0.6254345155424147,\n",
       "  0.38651957822850697],\n",
       " 'param_classifier__n_estimators': [10, 30, 100],\n",
       " 'params': [{'classifier__n_estimators': 10},\n",
       "  {'classifier__n_estimators': 30},\n",
       "  {'classifier__n_estimators': 100}],\n",
       " 'split0_test_score': [0.20888468809073724,\n",
       "  0.19659735349716445,\n",
       "  0.20982986767485823],\n",
       " 'split1_test_score': [0.19281663516068054,\n",
       "  0.20888468809073724,\n",
       "  0.20793950850661624],\n",
       " 'split2_test_score': [0.1833648393194707,\n",
       "  0.1937618147448015,\n",
       "  0.2051039697542533],\n",
       " 'split3_test_score': [0.1759697256385998,\n",
       "  0.18448438978240303,\n",
       "  0.1750236518448439],\n",
       " 'mean_test_score': [0.19025897205237208,\n",
       "  0.19593206152877654,\n",
       "  0.19947424944514291],\n",
       " 'std_test_score': [0.012300107395159007,\n",
       "  0.008717400813500597,\n",
       "  0.014216407015030439],\n",
       " 'rank_test_score': [3, 2, 1]}"
      ]
     },
     "execution_count": 18,
     "metadata": {},
     "output_type": "execute_result"
    }
   ],
   "source": [
    "cv_results = {k: v.tolist() if isinstance(v, np.ndarray) else v for k, v in grid_search.cv_results_.items()}\n",
    "cv_results"
   ]
  },
  {
   "cell_type": "code",
   "execution_count": 19,
   "metadata": {},
   "outputs": [
    {
     "name": "stdout",
     "output_type": "stream",
     "text": [
      "{\n",
      "    \"mean_fit_time\": [\n",
      "        7.5675660371780396,\n",
      "        15.904978811740875,\n",
      "        39.508933305740356\n",
      "    ],\n",
      "    \"std_fit_time\": [\n",
      "        1.85769966118303,\n",
      "        0.2893660104601841,\n",
      "        0.9576448051955023\n",
      "    ],\n",
      "    \"mean_score_time\": [\n",
      "        5.208703458309174,\n",
      "        2.090374708175659,\n",
      "        0.5662997364997864\n",
      "    ],\n",
      "    \"std_score_time\": [\n",
      "        0.38417710599105154,\n",
      "        0.6254345155424147,\n",
      "        0.38651957822850697\n",
      "    ],\n",
      "    \"param_classifier__n_estimators\": [\n",
      "        10,\n",
      "        30,\n",
      "        100\n",
      "    ],\n",
      "    \"params\": [\n",
      "        {\n",
      "            \"classifier__n_estimators\": 10\n",
      "        },\n",
      "        {\n",
      "            \"classifier__n_estimators\": 30\n",
      "        },\n",
      "        {\n",
      "            \"classifier__n_estimators\": 100\n",
      "        }\n",
      "    ],\n",
      "    \"split0_test_score\": [\n",
      "        0.20888468809073724,\n",
      "        0.19659735349716445,\n",
      "        0.20982986767485823\n",
      "    ],\n",
      "    \"split1_test_score\": [\n",
      "        0.19281663516068054,\n",
      "        0.20888468809073724,\n",
      "        0.20793950850661624\n",
      "    ],\n",
      "    \"split2_test_score\": [\n",
      "        0.1833648393194707,\n",
      "        0.1937618147448015,\n",
      "        0.2051039697542533\n",
      "    ],\n",
      "    \"split3_test_score\": [\n",
      "        0.1759697256385998,\n",
      "        0.18448438978240303,\n",
      "        0.1750236518448439\n",
      "    ],\n",
      "    \"mean_test_score\": [\n",
      "        0.19025897205237208,\n",
      "        0.19593206152877654,\n",
      "        0.19947424944514291\n",
      "    ],\n",
      "    \"std_test_score\": [\n",
      "        0.012300107395159007,\n",
      "        0.008717400813500597,\n",
      "        0.014216407015030439\n",
      "    ],\n",
      "    \"rank_test_score\": [\n",
      "        3,\n",
      "        2,\n",
      "        1\n",
      "    ]\n",
      "}\n"
     ]
    }
   ],
   "source": [
    "# json.dumps converts an object into JSON string, while json.dump writes it to a file\n",
    "print(json.dumps(cv_results, indent=4))"
   ]
  },
  {
   "cell_type": "code",
   "execution_count": null,
   "metadata": {},
   "outputs": [],
   "source": []
  }
 ],
 "metadata": {
  "kernelspec": {
   "display_name": "Python 3",
   "language": "python",
   "name": "python3"
  },
  "language_info": {
   "codemirror_mode": {
    "name": "ipython",
    "version": 3
   },
   "file_extension": ".py",
   "mimetype": "text/x-python",
   "name": "python",
   "nbconvert_exporter": "python",
   "pygments_lexer": "ipython3",
   "version": "3.7.4"
  }
 },
 "nbformat": 4,
 "nbformat_minor": 2
}
